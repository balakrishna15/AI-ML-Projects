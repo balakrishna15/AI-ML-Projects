{
  "cells": [
    {
      "cell_type": "markdown",
      "metadata": {
        "id": "view-in-github",
        "colab_type": "text"
      },
      "source": [
        "<a href=\"https://colab.research.google.com/github/balakrishna15/AI-ML-Projects/blob/main/AI_INT_BalaKrishna.ipynb\" target=\"_parent\"><img src=\"https://colab.research.google.com/assets/colab-badge.svg\" alt=\"Open In Colab\"/></a>"
      ]
    },
    {
      "cell_type": "markdown",
      "metadata": {
        "id": "lVkuZILfOwVs"
      },
      "source": [
        "# **Image Classification using Vision transformer**"
      ]
    },
    {
      "cell_type": "markdown",
      "source": [
        "TensorFlow Addons is a repository of additional functionality for TensorFlow, providing contributions in the form of custom operations, layers, activations, metrics, losses, and more."
      ],
      "metadata": {
        "id": "6AkT_vbl2NF6"
      }
    },
    {
      "cell_type": "code",
      "execution_count": null,
      "metadata": {
        "colab": {
          "base_uri": "https://localhost:8080/"
        },
        "id": "u6ZhUJuRRX9-",
        "outputId": "c294f8ac-4e8d-404b-d882-dcbb5670b862"
      },
      "outputs": [
        {
          "output_type": "stream",
          "name": "stdout",
          "text": [
            "Collecting tensorflow-addons\n",
            "  Downloading tensorflow_addons-0.22.0-cp310-cp310-manylinux_2_17_x86_64.manylinux2014_x86_64.whl (612 kB)\n",
            "\u001b[?25l     \u001b[90m━━━━━━━━━━━━━━━━━━━━━━━━━━━━━━━━━━━━━━━━\u001b[0m \u001b[32m0.0/612.3 kB\u001b[0m \u001b[31m?\u001b[0m eta \u001b[36m-:--:--\u001b[0m\r\u001b[2K     \u001b[91m━━━━━━━━\u001b[0m\u001b[90m╺\u001b[0m\u001b[90m━━━━━━━━━━━━━━━━━━━━━━━━━━━━━━━\u001b[0m \u001b[32m122.9/612.3 kB\u001b[0m \u001b[31m3.5 MB/s\u001b[0m eta \u001b[36m0:00:01\u001b[0m\r\u001b[2K     \u001b[90m━━━━━━━━━━━━━━━━━━━━━━━━━━━━━━━━━━━━━━━━\u001b[0m \u001b[32m612.3/612.3 kB\u001b[0m \u001b[31m10.4 MB/s\u001b[0m eta \u001b[36m0:00:00\u001b[0m\n",
            "\u001b[?25hRequirement already satisfied: packaging in /usr/local/lib/python3.10/dist-packages (from tensorflow-addons) (23.2)\n",
            "Collecting typeguard<3.0.0,>=2.7 (from tensorflow-addons)\n",
            "  Downloading typeguard-2.13.3-py3-none-any.whl (17 kB)\n",
            "Installing collected packages: typeguard, tensorflow-addons\n",
            "Successfully installed tensorflow-addons-0.22.0 typeguard-2.13.3\n"
          ]
        }
      ],
      "source": [
        "!pip install -U tensorflow-addons"
      ]
    },
    {
      "cell_type": "code",
      "execution_count": null,
      "metadata": {
        "id": "urXjyu5BTQMW"
      },
      "outputs": [],
      "source": [
        "import numpy as np\n",
        "import tensorflow as tf\n",
        "from tensorflow import keras\n",
        "from tensorflow.keras import layers\n",
        "import tensorflow_addons as tfa"
      ]
    },
    {
      "cell_type": "markdown",
      "source": [
        "### Defining the data"
      ],
      "metadata": {
        "id": "gsvyjf4673ch"
      }
    },
    {
      "cell_type": "code",
      "execution_count": null,
      "metadata": {
        "colab": {
          "base_uri": "https://localhost:8080/"
        },
        "id": "Dx0lY0U7jw1T",
        "outputId": "490dd683-f1f2-4357-d774-d500874d6f70"
      },
      "outputs": [
        {
          "output_type": "stream",
          "name": "stdout",
          "text": [
            "x_train shape: (50000, 32, 32, 3) - y_train shape: (50000, 1)\n",
            "x_test shape: (10000, 32, 32, 3) - y_test shape: (10000, 1)\n"
          ]
        }
      ],
      "source": [
        "num_classes = 100\n",
        "\n",
        "input_shape=(32,32,3)\n",
        "(x_train, y_train), (x_test, y_test) = keras.datasets.cifar10.load_data()\n",
        "\n",
        "print(f\"x_train shape: {x_train.shape} - y_train shape: {y_train.shape}\")\n",
        "print(f\"x_test shape: {x_test.shape} - y_test shape: {y_test.shape}\")\n"
      ]
    },
    {
      "cell_type": "markdown",
      "source": [
        "### Modifying the shape of the dataset"
      ],
      "metadata": {
        "id": "Fcfg85RR7buh"
      }
    },
    {
      "cell_type": "code",
      "source": [
        "x_train = x_train[:500]\n",
        "y_train = y_train[:500]\n",
        "x_test = x_test[:500]\n",
        "y_test = y_test[:500]"
      ],
      "metadata": {
        "id": "4gXh9a-y2ro9"
      },
      "execution_count": null,
      "outputs": []
    },
    {
      "cell_type": "markdown",
      "metadata": {
        "id": "En0GXE2QkoRL"
      },
      "source": [
        "### Hyper parameters"
      ]
    },
    {
      "cell_type": "code",
      "execution_count": null,
      "metadata": {
        "id": "8FEmQ4tYP_xo"
      },
      "outputs": [],
      "source": [
        "learning_rate = 0.001\n",
        "weight_decay = 0.0001\n",
        "batch_size = 256\n",
        "num_epochs = 40\n",
        "image_size = 72  # resizing input images\n",
        "patch_size = 6  # Size of the patches\n",
        "num_patches = (image_size // patch_size) ** 2\n",
        "projection_dim = 64\n",
        "num_heads = 4\n",
        "transformer_units = [\n",
        "    projection_dim * 2,\n",
        "    projection_dim,\n",
        "]  # transformer layers size\n",
        "transformer_layers = 8\n",
        "mlp_head_units = [2048, 1024]  # Size of final classifier"
      ]
    },
    {
      "cell_type": "markdown",
      "metadata": {
        "id": "rAf3mMugmgeE"
      },
      "source": [
        "### data augmentation"
      ]
    },
    {
      "cell_type": "code",
      "execution_count": null,
      "metadata": {
        "id": "rj8jLbAlmaP5"
      },
      "outputs": [],
      "source": [
        "data_augmentation = keras.Sequential(\n",
        "    [\n",
        "        layers.Normalization(),\n",
        "        layers.Resizing(image_size, image_size),\n",
        "        layers.RandomFlip(\"horizontal\"),\n",
        "        layers.RandomRotation(factor=0.02),\n",
        "        layers.RandomZoom(\n",
        "            height_factor=0.2, width_factor=0.2\n",
        "        ),\n",
        "    ],\n",
        "    name=\"data_augmentation\",\n",
        ")\n",
        "data_augmentation.layers[0].adapt(x_train)"
      ]
    },
    {
      "cell_type": "markdown",
      "metadata": {
        "id": "Nr4GPUOy5v03"
      },
      "source": [
        "### Implementing MLP layer"
      ]
    },
    {
      "cell_type": "code",
      "execution_count": null,
      "metadata": {
        "id": "qKWYNzXv5q9C"
      },
      "outputs": [],
      "source": [
        "def mlp(x, hidden_units, dropout_rate):\n",
        "  for units in hidden_units:\n",
        "    x = layers.Dense(units, activation = tf.nn.gelu)(x)\n",
        "    x = layers.Dropout(dropout_rate)(x)\n",
        "  return x"
      ]
    },
    {
      "cell_type": "markdown",
      "metadata": {
        "id": "Qjh5en1Z60ia"
      },
      "source": [
        "### patches"
      ]
    },
    {
      "cell_type": "code",
      "execution_count": null,
      "metadata": {
        "id": "605pBKv-5rAY"
      },
      "outputs": [],
      "source": [
        "class Patches(layers.Layer):\n",
        "    def __init__(self, patch_size):\n",
        "        super().__init__()\n",
        "        self.patch_size = patch_size\n",
        "\n",
        "    def call(self, images):\n",
        "        batch_size = tf.shape(images)[0]\n",
        "        patches = tf.image.extract_patches(\n",
        "            images=images,\n",
        "            sizes=[1, self.patch_size, self.patch_size, 1],\n",
        "            strides=[1, self.patch_size, self.patch_size, 1],\n",
        "            rates=[1, 1, 1, 1],\n",
        "            padding=\"VALID\",\n",
        "        )\n",
        "        patch_dims = patches.shape[-1]\n",
        "        patches = tf.reshape(patches, [batch_size, -1, patch_dims])\n",
        "        return patches\n",
        "\n"
      ]
    },
    {
      "cell_type": "markdown",
      "source": [
        "### Displaying patches for a random image"
      ],
      "metadata": {
        "id": "fGJzgeuA6lZS"
      }
    },
    {
      "cell_type": "code",
      "execution_count": null,
      "metadata": {
        "colab": {
          "base_uri": "https://localhost:8080/",
          "height": 747
        },
        "id": "rT6vNLDE9v-V",
        "outputId": "59d4e2ca-71c1-4118-c280-6035ca55224c"
      },
      "outputs": [
        {
          "output_type": "stream",
          "name": "stdout",
          "text": [
            "Image size: 72 X 72\n",
            "Patch size: 6 X 6\n",
            "Patches per image: 144\n",
            "Elements per patch: 108\n"
          ]
        },
        {
          "output_type": "display_data",
          "data": {
            "text/plain": [
              "<Figure size 400x400 with 1 Axes>"
            ],
            "image/png": "[encoded data removed]"
          },
          "metadata": {}
        },
        {
          "output_type": "display_data",
          "data": {
            "text/plain": [
              "<Figure size 400x400 with 144 Axes>"
            ],
            "image/png": "[encoded data removed]"
          },
          "metadata": {}
        }
      ],
      "source": [
        "import matplotlib.pyplot as plt\n",
        "\n",
        "plt.figure(figsize=(4, 4))\n",
        "image = x_train[np.random.choice(range(x_train.shape[0]))]\n",
        "plt.imshow(image.astype(\"uint8\"))\n",
        "plt.axis(\"off\")\n",
        "\n",
        "resized_image = tf.image.resize(\n",
        "    tf.convert_to_tensor([image]), size=(image_size, image_size)\n",
        ")\n",
        "patches = Patches(patch_size)(resized_image)\n",
        "print(f\"Image size: {image_size} X {image_size}\")\n",
        "print(f\"Patch size: {patch_size} X {patch_size}\")\n",
        "print(f\"Patches per image: {patches.shape[1]}\")\n",
        "print(f\"Elements per patch: {patches.shape[-1]}\")\n",
        "\n",
        "n = int(np.sqrt(patches.shape[1]))\n",
        "plt.figure(figsize=(4, 4))\n",
        "for i, patch in enumerate(patches[0]):\n",
        "    ax = plt.subplot(n, n, i + 1)\n",
        "    patch_img = tf.reshape(patch, (patch_size, patch_size, 3))\n",
        "    plt.imshow(patch_img.numpy().astype(\"uint8\"))\n",
        "    plt.axis(\"off\")"
      ]
    },
    {
      "cell_type": "markdown",
      "source": [
        "### Implementing patch encode layer"
      ],
      "metadata": {
        "id": "EnwOdbHi6Sbd"
      }
    },
    {
      "cell_type": "code",
      "execution_count": null,
      "metadata": {
        "id": "_K66xLd9ATTU"
      },
      "outputs": [],
      "source": [
        "class PatchEncoder(layers.Layer):\n",
        "    def __init__(self, num_patches, projection_dim):\n",
        "        super().__init__()\n",
        "        self.num_patches = num_patches\n",
        "        self.projection = layers.Dense(units=projection_dim)\n",
        "        self.position_embedding = layers.Embedding(\n",
        "            input_dim=num_patches, output_dim=projection_dim\n",
        "        )\n",
        "\n",
        "    def call(self, patch):\n",
        "        positions = tf.range(start=0, limit=self.num_patches, delta=1)\n",
        "        encoded = self.projection(patch) + self.position_embedding(positions)\n",
        "        return encoded"
      ]
    },
    {
      "cell_type": "markdown",
      "source": [
        "### Building ViT model"
      ],
      "metadata": {
        "id": "S6iVihXn6KkK"
      }
    },
    {
      "cell_type": "code",
      "execution_count": null,
      "metadata": {
        "id": "yNNwLuaxR4OW"
      },
      "outputs": [],
      "source": [
        "def create_vit_classifier():\n",
        "    inputs = layers.Input(shape=input_shape)\n",
        "    augmented = data_augmentation(inputs)   #augumented data\n",
        "    patches = Patches(patch_size)(augmented)  # creating patches\n",
        "    encoded_patches = PatchEncoder(num_patches, projection_dim)(patches)  #Encoding patches\n",
        "    # Create multiple layers of the Transformer block.\n",
        "    for _ in range(transformer_layers):\n",
        "        # Layer normalization 1.\n",
        "        x1 = layers.LayerNormalization(epsilon=1e-6)(encoded_patches)\n",
        "        # Create a multi-head attention layer.\n",
        "        attention_output = layers.MultiHeadAttention(\n",
        "            num_heads=num_heads, key_dim=projection_dim, dropout=0.1\n",
        "        )(x1, x1)\n",
        "        # Skip connection 1.\n",
        "        x2 = layers.Add()([attention_output, encoded_patches])\n",
        "        # Layer normalization 2.\n",
        "        x3 = layers.LayerNormalization(epsilon=1e-6)(x2)\n",
        "        # MLP.\n",
        "        x3 = mlp(x3, hidden_units=transformer_units, dropout_rate=0.1)\n",
        "        # Skip connection 2.\n",
        "        encoded_patches = layers.Add()([x3, x2])\n",
        "\n",
        "    representation = layers.LayerNormalization(epsilon=1e-6)(encoded_patches)\n",
        "    representation = layers.Flatten()(representation)\n",
        "    representation = layers.Dropout(0.5)(representation)\n",
        "\n",
        "    features = mlp(representation, hidden_units=mlp_head_units, dropout_rate=0.5) # adding MLP layer\n",
        "\n",
        "    logits = layers.Dense(num_classes)(features)\n",
        "\n",
        "    model = keras.Model(inputs=inputs, outputs=logits)   # model creation\n",
        "    return model"
      ]
    },
    {
      "cell_type": "code",
      "source": [],
      "metadata": {
        "id": "9UYpE55H-1c7"
      },
      "execution_count": null,
      "outputs": []
    },
    {
      "cell_type": "markdown",
      "source": [
        "### Training and evaluation"
      ],
      "metadata": {
        "id": "dBZ3lnuL58Gf"
      }
    },
    {
      "cell_type": "code",
      "execution_count": null,
      "metadata": {
        "colab": {
          "base_uri": "https://localhost:8080/"
        },
        "id": "f_YHOMLrR_1x",
        "outputId": "d14bd25d-6aa8-4034-834f-bdd9140e32cb"
      },
      "outputs": [
        {
          "output_type": "stream",
          "name": "stdout",
          "text": [
            "Epoch 1/40\n",
            "2/2 [==============================] - 49s 20s/step - loss: 6.3837 - accuracy: 0.0689 - top-5-accuracy: 0.3022 - val_loss: 4.0917 - val_accuracy: 0.2000 - val_top-5-accuracy: 0.6600\n",
            "Epoch 2/40\n",
            "2/2 [==============================] - 28s 13s/step - loss: 5.4624 - accuracy: 0.1822 - top-5-accuracy: 0.6133 - val_loss: 3.5543 - val_accuracy: 0.2200 - val_top-5-accuracy: 0.6800\n",
            "Epoch 3/40\n",
            "2/2 [==============================] - 28s 12s/step - loss: 3.9938 - accuracy: 0.2378 - top-5-accuracy: 0.6667 - val_loss: 3.0440 - val_accuracy: 0.2000 - val_top-5-accuracy: 0.6200\n",
            "Epoch 4/40\n",
            "2/2 [==============================] - 29s 13s/step - loss: 3.2852 - accuracy: 0.2289 - top-5-accuracy: 0.7133 - val_loss: 2.3352 - val_accuracy: 0.3200 - val_top-5-accuracy: 0.7000\n",
            "Epoch 5/40\n",
            "2/2 [==============================] - 27s 12s/step - loss: 2.7669 - accuracy: 0.2222 - top-5-accuracy: 0.7556 - val_loss: 2.3180 - val_accuracy: 0.2800 - val_top-5-accuracy: 0.8200\n",
            "Epoch 6/40\n",
            "2/2 [==============================] - 28s 13s/step - loss: 2.5976 - accuracy: 0.2422 - top-5-accuracy: 0.6978 - val_loss: 2.2893 - val_accuracy: 0.3000 - val_top-5-accuracy: 0.7000\n",
            "Epoch 7/40\n",
            "2/2 [==============================] - 29s 13s/step - loss: 2.2331 - accuracy: 0.2956 - top-5-accuracy: 0.7978 - val_loss: 2.1319 - val_accuracy: 0.3400 - val_top-5-accuracy: 0.8000\n",
            "Epoch 8/40\n",
            "2/2 [==============================] - 28s 12s/step - loss: 2.2212 - accuracy: 0.3044 - top-5-accuracy: 0.8244 - val_loss: 2.0884 - val_accuracy: 0.3200 - val_top-5-accuracy: 0.8000\n",
            "Epoch 9/40\n",
            "2/2 [==============================] - 26s 11s/step - loss: 2.1132 - accuracy: 0.3089 - top-5-accuracy: 0.8244 - val_loss: 2.1112 - val_accuracy: 0.2600 - val_top-5-accuracy: 0.8000\n",
            "Epoch 10/40\n",
            "2/2 [==============================] - 28s 12s/step - loss: 2.0500 - accuracy: 0.3511 - top-5-accuracy: 0.8222 - val_loss: 2.0362 - val_accuracy: 0.2600 - val_top-5-accuracy: 0.7800\n",
            "Epoch 11/40\n",
            "2/2 [==============================] - 28s 12s/step - loss: 1.8978 - accuracy: 0.3644 - top-5-accuracy: 0.8867 - val_loss: 2.0346 - val_accuracy: 0.3000 - val_top-5-accuracy: 0.8200\n",
            "Epoch 12/40\n",
            "2/2 [==============================] - 28s 12s/step - loss: 1.9163 - accuracy: 0.4156 - top-5-accuracy: 0.8556 - val_loss: 2.0841 - val_accuracy: 0.2600 - val_top-5-accuracy: 0.7600\n",
            "Epoch 13/40\n",
            "2/2 [==============================] - 28s 13s/step - loss: 2.0346 - accuracy: 0.4022 - top-5-accuracy: 0.8267 - val_loss: 2.1671 - val_accuracy: 0.2600 - val_top-5-accuracy: 0.7400\n",
            "Epoch 14/40\n",
            "2/2 [==============================] - 28s 13s/step - loss: 1.7958 - accuracy: 0.4133 - top-5-accuracy: 0.8911 - val_loss: 2.1570 - val_accuracy: 0.3200 - val_top-5-accuracy: 0.7600\n",
            "Epoch 15/40\n",
            "2/2 [==============================] - 28s 13s/step - loss: 1.7709 - accuracy: 0.4289 - top-5-accuracy: 0.8867 - val_loss: 2.2402 - val_accuracy: 0.2800 - val_top-5-accuracy: 0.7800\n",
            "Epoch 16/40\n",
            "2/2 [==============================] - 28s 13s/step - loss: 1.6055 - accuracy: 0.4733 - top-5-accuracy: 0.9133 - val_loss: 2.3297 - val_accuracy: 0.2200 - val_top-5-accuracy: 0.7800\n",
            "Epoch 17/40\n",
            "2/2 [==============================] - 27s 12s/step - loss: 1.6000 - accuracy: 0.4600 - top-5-accuracy: 0.8956 - val_loss: 2.2446 - val_accuracy: 0.2000 - val_top-5-accuracy: 0.7600\n",
            "Epoch 18/40\n",
            "2/2 [==============================] - 27s 11s/step - loss: 1.5253 - accuracy: 0.4844 - top-5-accuracy: 0.9111 - val_loss: 2.1606 - val_accuracy: 0.3000 - val_top-5-accuracy: 0.7400\n",
            "Epoch 19/40\n",
            "2/2 [==============================] - 27s 11s/step - loss: 1.4595 - accuracy: 0.5067 - top-5-accuracy: 0.9267 - val_loss: 2.1566 - val_accuracy: 0.3000 - val_top-5-accuracy: 0.7400\n",
            "Epoch 20/40\n",
            "2/2 [==============================] - 28s 12s/step - loss: 1.4352 - accuracy: 0.4911 - top-5-accuracy: 0.9333 - val_loss: 2.1520 - val_accuracy: 0.2800 - val_top-5-accuracy: 0.7600\n",
            "Epoch 21/40\n",
            "2/2 [==============================] - 28s 12s/step - loss: 1.4936 - accuracy: 0.5022 - top-5-accuracy: 0.9178 - val_loss: 2.0353 - val_accuracy: 0.3000 - val_top-5-accuracy: 0.8200\n",
            "Epoch 22/40\n",
            "2/2 [==============================] - 34s 19s/step - loss: 1.2369 - accuracy: 0.5622 - top-5-accuracy: 0.9556 - val_loss: 2.0101 - val_accuracy: 0.3600 - val_top-5-accuracy: 0.8200\n",
            "Epoch 23/40\n",
            "2/2 [==============================] - 27s 11s/step - loss: 1.2066 - accuracy: 0.5800 - top-5-accuracy: 0.9578 - val_loss: 2.0762 - val_accuracy: 0.3200 - val_top-5-accuracy: 0.7800\n",
            "Epoch 24/40\n",
            "2/2 [==============================] - 28s 12s/step - loss: 1.2023 - accuracy: 0.5733 - top-5-accuracy: 0.9467 - val_loss: 2.1550 - val_accuracy: 0.3400 - val_top-5-accuracy: 0.7600\n",
            "Epoch 25/40\n",
            "2/2 [==============================] - 28s 12s/step - loss: 1.1835 - accuracy: 0.5889 - top-5-accuracy: 0.9600 - val_loss: 2.2710 - val_accuracy: 0.3200 - val_top-5-accuracy: 0.7600\n",
            "Epoch 26/40\n",
            "2/2 [==============================] - 28s 12s/step - loss: 1.1092 - accuracy: 0.6267 - top-5-accuracy: 0.9689 - val_loss: 2.3352 - val_accuracy: 0.3200 - val_top-5-accuracy: 0.7400\n",
            "Epoch 27/40\n",
            "2/2 [==============================] - 28s 13s/step - loss: 1.1058 - accuracy: 0.6200 - top-5-accuracy: 0.9644 - val_loss: 2.3341 - val_accuracy: 0.2800 - val_top-5-accuracy: 0.8200\n",
            "Epoch 28/40\n",
            "2/2 [==============================] - 28s 13s/step - loss: 1.0532 - accuracy: 0.6378 - top-5-accuracy: 0.9644 - val_loss: 2.3872 - val_accuracy: 0.2800 - val_top-5-accuracy: 0.8200\n",
            "Epoch 29/40\n",
            "2/2 [==============================] - 28s 13s/step - loss: 1.0300 - accuracy: 0.6644 - top-5-accuracy: 0.9600 - val_loss: 2.4830 - val_accuracy: 0.3200 - val_top-5-accuracy: 0.8200\n",
            "Epoch 30/40\n",
            "2/2 [==============================] - 27s 12s/step - loss: 0.9897 - accuracy: 0.6533 - top-5-accuracy: 0.9756 - val_loss: 2.5262 - val_accuracy: 0.2800 - val_top-5-accuracy: 0.8000\n",
            "Epoch 31/40\n",
            "2/2 [==============================] - 27s 11s/step - loss: 0.9775 - accuracy: 0.6622 - top-5-accuracy: 0.9778 - val_loss: 2.4784 - val_accuracy: 0.2600 - val_top-5-accuracy: 0.8200\n",
            "Epoch 32/40\n",
            "2/2 [==============================] - 28s 11s/step - loss: 0.8839 - accuracy: 0.7000 - top-5-accuracy: 0.9711 - val_loss: 2.4128 - val_accuracy: 0.2400 - val_top-5-accuracy: 0.8400\n",
            "Epoch 33/40\n",
            "2/2 [==============================] - 29s 13s/step - loss: 0.9102 - accuracy: 0.6933 - top-5-accuracy: 0.9889 - val_loss: 2.5449 - val_accuracy: 0.2200 - val_top-5-accuracy: 0.8000\n",
            "Epoch 34/40\n",
            "2/2 [==============================] - 33s 11s/step - loss: 0.7908 - accuracy: 0.7111 - top-5-accuracy: 0.9756 - val_loss: 2.5505 - val_accuracy: 0.2600 - val_top-5-accuracy: 0.7400\n",
            "Epoch 35/40\n",
            "2/2 [==============================] - 27s 12s/step - loss: 0.7187 - accuracy: 0.7556 - top-5-accuracy: 0.9844 - val_loss: 2.5373 - val_accuracy: 0.2600 - val_top-5-accuracy: 0.8000\n",
            "Epoch 36/40\n",
            "2/2 [==============================] - 28s 13s/step - loss: 0.7350 - accuracy: 0.7556 - top-5-accuracy: 0.9889 - val_loss: 2.5823 - val_accuracy: 0.2200 - val_top-5-accuracy: 0.8200\n",
            "Epoch 37/40\n",
            "2/2 [==============================] - 27s 12s/step - loss: 0.7254 - accuracy: 0.7378 - top-5-accuracy: 0.9867 - val_loss: 2.5628 - val_accuracy: 0.2000 - val_top-5-accuracy: 0.8200\n",
            "Epoch 38/40\n",
            "2/2 [==============================] - 29s 12s/step - loss: 0.7205 - accuracy: 0.7400 - top-5-accuracy: 0.9889 - val_loss: 2.5911 - val_accuracy: 0.2200 - val_top-5-accuracy: 0.8200\n",
            "Epoch 39/40\n",
            "2/2 [==============================] - 28s 13s/step - loss: 0.6410 - accuracy: 0.7844 - top-5-accuracy: 0.9933 - val_loss: 2.7852 - val_accuracy: 0.2600 - val_top-5-accuracy: 0.7800\n",
            "Epoch 40/40\n",
            "2/2 [==============================] - 28s 12s/step - loss: 0.6040 - accuracy: 0.7822 - top-5-accuracy: 0.9911 - val_loss: 3.1601 - val_accuracy: 0.2200 - val_top-5-accuracy: 0.7800\n",
            "16/16 [==============================] - 9s 574ms/step - loss: 2.0817 - accuracy: 0.3360 - top-5-accuracy: 0.8400\n",
            "Test accuracy: 33.6%\n",
            "Test top 5 accuracy: 84.0%\n"
          ]
        }
      ],
      "source": [
        "\n",
        "def run_experiment(model):\n",
        "    optimizer = tfa.optimizers.AdamW(\n",
        "        learning_rate=learning_rate, weight_decay=weight_decay\n",
        "    )\n",
        "\n",
        "    model.compile(\n",
        "        optimizer=optimizer,\n",
        "        loss=keras.losses.SparseCategoricalCrossentropy(from_logits=True),\n",
        "        metrics=[\n",
        "            keras.metrics.SparseCategoricalAccuracy(name=\"accuracy\"),\n",
        "            keras.metrics.SparseTopKCategoricalAccuracy(5, name=\"top-5-accuracy\"),\n",
        "        ],\n",
        "    )\n",
        "\n",
        "    checkpoint_filepath = \"/tmp/checkpoint\"\n",
        "    checkpoint_callback = keras.callbacks.ModelCheckpoint(\n",
        "        checkpoint_filepath,\n",
        "        monitor=\"val_accuracy\",\n",
        "        save_best_only=True,\n",
        "        save_weights_only=True,\n",
        "    )\n",
        "\n",
        "    history = model.fit(\n",
        "        x=x_train,\n",
        "        y=y_train,\n",
        "        batch_size=batch_size,\n",
        "        epochs=num_epochs,\n",
        "        validation_split=0.1,\n",
        "        callbacks=[checkpoint_callback],\n",
        "    )\n",
        "\n",
        "    model.load_weights(checkpoint_filepath)\n",
        "    _, accuracy, top_5_accuracy = model.evaluate(x_test, y_test)\n",
        "    print(f\"Test accuracy: {round(accuracy * 100, 2)}%\")\n",
        "    print(f\"Test top 5 accuracy: {round(top_5_accuracy * 100, 2)}%\")\n",
        "\n",
        "    return history\n",
        "\n",
        "\n",
        "vit_classifier = create_vit_classifier()\n",
        "history = run_experiment(vit_classifier)"
      ]
    },
    {
      "cell_type": "markdown",
      "source": [
        "### Testing the model"
      ],
      "metadata": {
        "id": "hae8i-oKFfFg"
      }
    },
    {
      "cell_type": "code",
      "source": [
        "class_names = [\n",
        "    'airplane',\n",
        "    'automobile',\n",
        "    'bird',\n",
        "    'cat',\n",
        "    'frog',\n",
        "    'deer',\n",
        "    'dog',\n",
        "    'horse',\n",
        "    'ship',\n",
        "    'truck',\n",
        "]"
      ],
      "metadata": {
        "id": "ijvnplBb-2k1"
      },
      "execution_count": null,
      "outputs": []
    },
    {
      "cell_type": "code",
      "source": [
        "def img_predict(images, model):\n",
        "  if len(images.shape)==3:\n",
        "    out = model.predict(images.reshape(-1,*images.shape))\n",
        "  else:\n",
        "    out = model.predict(images)\n",
        "  prediction = np.argmax(out, axis=1)\n",
        "  img_prediction = [class_names[i] for i in prediction]\n",
        "  return img_prediction\n"
      ],
      "metadata": {
        "id": "HP3p7pDG_YBN"
      },
      "execution_count": null,
      "outputs": []
    },
    {
      "cell_type": "code",
      "source": [
        "index = 12\n",
        "plt.imshow(x_test[index])\n",
        "prediction = img_predict(x_test[index], vit_classifier)\n",
        "print(prediction)"
      ],
      "metadata": {
        "colab": {
          "base_uri": "https://localhost:8080/",
          "height": 467
        },
        "id": "wd8wVUenAPER",
        "outputId": "647311ca-5369-44f1-f863-87e6c2bca9c9"
      },
      "execution_count": null,
      "outputs": [
        {
          "output_type": "stream",
          "name": "stdout",
          "text": [
            "1/1 [==============================] - 0s 51ms/step\n",
            "['dog']\n"
          ]
        },
        {
          "output_type": "display_data",
          "data": {
            "text/plain": [
              "<Figure size 640x480 with 1 Axes>"
            ],
            "image/png": "[encoded data removed]"
          },
          "metadata": {}
        }
      ]
    }
  ],
  "metadata": {
    "colab": {
      "provenance": [],
      "authorship_tag": "ABX9TyPYLA/++c1SSH7sOffD5Co/",
      "include_colab_link": true
    },
    "kernelspec": {
      "display_name": "Python 3",
      "name": "python3"
    },
    "language_info": {
      "name": "python"
    }
  },
  "nbformat": 4,
  "nbformat_minor": 0
}